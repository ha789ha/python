{
 "cells": [
  {
   "cell_type": "code",
   "execution_count": 10,
   "id": "c13355d6",
   "metadata": {},
   "outputs": [],
   "source": [
    "# 일반유닛\n",
    "class unit :\n",
    "    def __init__(self, name, hp) :\n",
    "        self.name = name\n",
    "        self.hp = hp      \n",
    "\n",
    "            \n",
    "# 메딕 : 의무병\n",
    "\n",
    "# 파이어벳\n"
   ]
  },
  {
   "cell_type": "markdown",
   "id": "0df25257",
   "metadata": {},
   "source": [
    "# 상속"
   ]
  },
  {
   "cell_type": "code",
   "execution_count": 11,
   "id": "2b18977e",
   "metadata": {},
   "outputs": [],
   "source": [
    "# 공격유닛\n",
    "class AttackUnit(unit) :\n",
    "    def __init__(self, name, hp, damage) :       \n",
    "        unit.__init__(self, name, hp)\n",
    "        self.damge = damage\n",
    "        \n",
    "    def attack(self, location) :\n",
    "        print(f'{self.name} : {location} 방향으로 적군을 공격 합니다.')\n",
    "        \n",
    "    def damaged(self, damage) :\n",
    "        print(f'{self.name} : {damage} 데미지를 입었습니다')\n",
    "        self.hp -=damage\n",
    "        print(f'{self.name} : 현재 체력은 {self.hp}입니다')\n",
    "        if self.hp <= 0 :\n",
    "            print(f'{self.name} : 파괴되었습니다')"
   ]
  },
  {
   "cell_type": "code",
   "execution_count": 12,
   "id": "042026a4",
   "metadata": {},
   "outputs": [
    {
     "name": "stdout",
     "output_type": "stream",
     "text": [
      "파이어벳 : 5시 방향으로 적군을 공격 합니다.\n"
     ]
    }
   ],
   "source": [
    "# 파이어벳\n",
    "firebat = AttackUnit('파이어벳', 50, 16)\n",
    "firebat.attack('5시')"
   ]
  },
  {
   "cell_type": "markdown",
   "id": "f5f69852",
   "metadata": {},
   "source": [
    "# 다중상속\n",
    "부모 클래스를 두 개 이상 상속받음"
   ]
  },
  {
   "cell_type": "code",
   "execution_count": 18,
   "id": "37fe87a3",
   "metadata": {},
   "outputs": [
    {
     "name": "stdout",
     "output_type": "stream",
     "text": [
      "발키리 : 3시 방향으로 날아갑니다, 속도 5\n"
     ]
    }
   ],
   "source": [
    "# 드랍쉽 : 수송 기능, 공격 X\n",
    "\n",
    "class Flyable :\n",
    "    def __init__(self, flying_speed) :\n",
    "        self.flying_speed = flying_speed\n",
    "        \n",
    "    def fly(self, name, location) :\n",
    "        print(f'{name} : {location} 방향으로 날아갑니다, 속도 {self.flying_speed}')\n",
    "        \n",
    "# 공중 공격 유닛 클래스\n",
    "class FlyableAttackUnit(AttackUnit, Flyable) :\n",
    "    def __init__(self, name, hp, damage, flying_speed) :\n",
    "        AttackUnit.__init__(self, name, hp, damage)\n",
    "        Flyable.__init__(self, flying_speed)\n",
    "        \n",
    "# 발키리 : 공중 공격 유닛, 한번에 14발 미사일 발사\n",
    "valkyrie = FlyableAttackUnit('발키리', 200, 6, 5)\n",
    "valkyrie.fly(valkyrie.name, '3시')\n",
    "\n",
    "\n",
    "    \n",
    "        \n",
    "\n"
   ]
  },
  {
   "cell_type": "code",
   "execution_count": null,
   "id": "f2c77116",
   "metadata": {},
   "outputs": [],
   "source": []
  }
 ],
 "metadata": {
  "kernelspec": {
   "display_name": "Python 3 (ipykernel)",
   "language": "python",
   "name": "python3"
  },
  "language_info": {
   "codemirror_mode": {
    "name": "ipython",
    "version": 3
   },
   "file_extension": ".py",
   "mimetype": "text/x-python",
   "name": "python",
   "nbconvert_exporter": "python",
   "pygments_lexer": "ipython3",
   "version": "3.10.2"
  }
 },
 "nbformat": 4,
 "nbformat_minor": 5
}
