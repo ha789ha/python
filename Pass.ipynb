{
 "cells": [
  {
   "cell_type": "markdown",
   "id": "9576479e",
   "metadata": {},
   "source": [
    "# Pass"
   ]
  },
  {
   "cell_type": "code",
   "execution_count": 4,
   "id": "f79d7c63",
   "metadata": {},
   "outputs": [],
   "source": [
    "# 일반유닛\n",
    "class unit :\n",
    "    def __init__(self, name, hp, speed) :\n",
    "        self.name = name\n",
    "        self.hp = hp\n",
    "        self.speed = speed  ##스피드 변수 추가\n",
    "        \n",
    "    def move(self, location) :\n",
    "        print('지상유닛이동')\n",
    "        print(f'{self.name} : {location} 방향으로 이동합니다 속도 {self.speed}')\n",
    "\n",
    "# 공격유닛        \n",
    "class AttackUnit(unit) :\n",
    "    def __init__(self, name, hp, speed, damage) :       \n",
    "        unit.__init__(self, name, hp, speed)\n",
    "        self.damge = damage\n",
    "        \n",
    "    def attack(self, location) :\n",
    "        print(f'{self.name} : {location} 방향으로 적군을 공격 합니다.')\n",
    "        \n",
    "    def damaged(self, damage) :\n",
    "        print(f'{self.name} : {damage} 데미지를 입었습니다')\n",
    "        self.hp -=damage\n",
    "        print(f'{self.name} : 현재 체력은 {self.hp}입니다')\n",
    "        if self.hp <= 0 :\n",
    "            print(f'{self.name} : 파괴되었습니다')\n",
    "            \n",
    "# 드랍쉽 : 수송 기능, 공격 X\n",
    "class Flyable :\n",
    "    def __init__(self, flying_speed) :\n",
    "        self.flying_speed = flying_speed\n",
    "        \n",
    "    def fly(self, name, location) :\n",
    "        print(f'{name} : {location} 방향으로 날아갑니다, 속도 {self.flying_speed}')\n",
    "        \n",
    "# 공중 공격 유닛 클래스\n",
    "class FlyableAttackUnit(AttackUnit, Flyable) :\n",
    "    def __init__(self, name, hp, damage, flying_speed) :\n",
    "        AttackUnit.__init__(self, name, hp, 0, damage) # 지상 speed는 0으로 처리\n",
    "        Flyable.__init__(self, flying_speed)\n",
    "        \n",
    "    def move(self, location) :\n",
    "        print('공중유닛이동')\n",
    "        self.fly(self.name, location) \n",
    "\n"
   ]
  },
  {
   "cell_type": "code",
   "execution_count": 8,
   "id": "ae86c41d",
   "metadata": {},
   "outputs": [],
   "source": [
    "class BuildingUnit(unit) :\n",
    "    def __init__(self, name, hp, location) :\n",
    "        pass # pass를 호출하면 함수가 실행되지 않고 넘어간다\n",
    "    \n",
    "# 서플라이 디포\n",
    "supply_depot = BuildingUnit('서플라이디포', 500, '7시')"
   ]
  },
  {
   "cell_type": "code",
   "execution_count": 7,
   "id": "468353bd",
   "metadata": {},
   "outputs": [
    {
     "name": "stdout",
     "output_type": "stream",
     "text": [
      "새로운 알림을 시작합니다\n"
     ]
    }
   ],
   "source": [
    "def game_start() :\n",
    "    print('새로운 알림을 시작합니다')\n",
    "    \n",
    "def game_over() :\n",
    "    pass\n",
    "\n",
    "game_start()\n",
    "game_over()"
   ]
  },
  {
   "cell_type": "markdown",
   "id": "78a18810",
   "metadata": {},
   "source": [
    "## super"
   ]
  },
  {
   "cell_type": "code",
   "execution_count": 9,
   "id": "a9918f4a",
   "metadata": {},
   "outputs": [],
   "source": [
    "class BuildingUnit(unit) :\n",
    "    def __init__(self, name, hp, location) :\n",
    "        #unit.__init__(self, name, hp, 0)\n",
    "        super().__init__(name ,hp, 0) # 위의 문장과 동일\n",
    "        self.location = location"
   ]
  },
  {
   "cell_type": "code",
   "execution_count": 14,
   "id": "340bb4b1",
   "metadata": {},
   "outputs": [],
   "source": [
    "class Unit :\n",
    "    def __init__(self) :\n",
    "        print(('unit 생성자'))\n",
    "        \n",
    "class Flyable :\n",
    "    def __init__(self) :\n",
    "        print('flyable 생성자')\n",
    "    \n",
    "class FlaybleUnit(Flyable, Unit) :\n",
    "    def __init__(self) :\n",
    "        super().__init__()\n",
    "    "
   ]
  },
  {
   "cell_type": "code",
   "execution_count": null,
   "id": "54e6ba4b",
   "metadata": {},
   "outputs": [],
   "source": []
  }
 ],
 "metadata": {
  "kernelspec": {
   "display_name": "Python 3 (ipykernel)",
   "language": "python",
   "name": "python3"
  },
  "language_info": {
   "codemirror_mode": {
    "name": "ipython",
    "version": 3
   },
   "file_extension": ".py",
   "mimetype": "text/x-python",
   "name": "python",
   "nbconvert_exporter": "python",
   "pygments_lexer": "ipython3",
   "version": "3.10.2"
  }
 },
 "nbformat": 4,
 "nbformat_minor": 5
}
