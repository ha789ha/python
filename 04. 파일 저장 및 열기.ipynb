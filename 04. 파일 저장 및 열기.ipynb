{
 "cells": [
  {
   "cell_type": "markdown",
   "id": "ddf85421",
   "metadata": {},
   "source": [
    "## 04. 파일 저장 및 열기\n",
    "\n",
    "DataFrame 객체를 excel, csv, txt 파일로 저장 및 열기\n"
   ]
  },
  {
   "cell_type": "code",
   "execution_count": null,
   "id": "da5e4c4f",
   "metadata": {},
   "outputs": [],
   "source": [
    "df = pd.read_csv(\"score.csv\", skiprows = 2, nrows = 4) ## 4개 열만 갖고오고 처음 2행 무시\n",
    "df"
   ]
  },
  {
   "cell_type": "markdown",
   "id": "00679b5f",
   "metadata": {},
   "source": [
    "## 저장하기\n",
    "### csv 파일로 저장"
   ]
  },
  {
   "cell_type": "code",
   "execution_count": 5,
   "id": "5c1c8c72",
   "metadata": {},
   "outputs": [],
   "source": [
    "df.to_csv(\"score.csv\", encoding = \"utf-8-sig\") ## 한글 파일 저장하기 위해서 ECNODING 잘할 것\n",
    "df.to_csv(\"score.csv\", encoding = \"utf-8-sig\", index = False)"
   ]
  },
  {
   "cell_type": "markdown",
   "id": "183883f0",
   "metadata": {},
   "source": [
    "### txt 파일로 저장"
   ]
  },
  {
   "cell_type": "code",
   "execution_count": 6,
   "id": "4db6410a",
   "metadata": {},
   "outputs": [],
   "source": [
    "df.to_csv(\"score.txt\", sep = \"\\t\", encoding = \"utf-8-sig\")"
   ]
  },
  {
   "cell_type": "markdown",
   "id": "bd073d9d",
   "metadata": {},
   "source": [
    "### 엑셀 파일로 저장"
   ]
  },
  {
   "cell_type": "code",
   "execution_count": null,
   "id": "9285dd64",
   "metadata": {},
   "outputs": [],
   "source": [
    "df.to_csv(\"score.csv\", encoding = \"utf-8-sig\")"
   ]
  },
  {
   "cell_type": "markdown",
   "id": "69e2c498",
   "metadata": {},
   "source": [
    "***\n",
    "## 열기\n",
    "\n",
    "### csv 파일 열기"
   ]
  },
  {
   "cell_type": "code",
   "execution_count": null,
   "id": "a5189612",
   "metadata": {},
   "outputs": [],
   "source": [
    "df = pd.read_csv(\"score.csv\")"
   ]
  },
  {
   "cell_type": "code",
   "execution_count": null,
   "id": "c3e86a2f",
   "metadata": {},
   "outputs": [],
   "source": [
    "df = pd.read_csv(\"score.csv\", skiprows = 1)  ## 1번째 행 제외\n",
    "df = pd.read_csv(\"score.csv\", skiprows = [1, 3, 5]) ## 1, 3, 5행 제외\n",
    "df = pd.read_csv(\"score.csv\", nrows = 4) ## 4개 열만 갖고옴\n",
    "df = pd.read_csv(\"score.csv\", skiprows = 2, nrows = 4) ## 4개 열만 갖고오고 처음 2행 무시\n",
    "df"
   ]
  },
  {
   "cell_type": "markdown",
   "id": "c16395b7",
   "metadata": {},
   "source": [
    "### Txt 파일 열기"
   ]
  },
  {
   "cell_type": "code",
   "execution_count": null,
   "id": "2a03a62c",
   "metadata": {},
   "outputs": [],
   "source": [
    "df = pd.read_csv(\"score.txt\", sep = \"\\t\", index_col = \"지원번호\") ## 구분자 넣어줘야함!!\n",
    "df"
   ]
  },
  {
   "cell_type": "markdown",
   "id": "ea2c60b3",
   "metadata": {},
   "source": [
    "### 엑셀 파일 열기"
   ]
  },
  {
   "cell_type": "code",
   "execution_count": null,
   "id": "483874c7",
   "metadata": {},
   "outputs": [],
   "source": [
    "df = pd.read_excel(\"score.xlsx\")"
   ]
  },
  {
   "cell_type": "code",
   "execution_count": null,
   "id": "6b5704e9",
   "metadata": {},
   "outputs": [],
   "source": []
  }
 ],
 "metadata": {
  "kernelspec": {
   "display_name": "Python 3 (ipykernel)",
   "language": "python",
   "name": "python3"
  },
  "language_info": {
   "codemirror_mode": {
    "name": "ipython",
    "version": 3
   },
   "file_extension": ".py",
   "mimetype": "text/x-python",
   "name": "python",
   "nbconvert_exporter": "python",
   "pygments_lexer": "ipython3",
   "version": "3.10.2"
  }
 },
 "nbformat": 4,
 "nbformat_minor": 5
}
