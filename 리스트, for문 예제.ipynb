{
 "cells": [
  {
   "cell_type": "code",
   "execution_count": null,
   "id": "92db29cb",
   "metadata": {},
   "outputs": [],
   "source": [
    "#Step 1 \n",
    "import random\n",
    "word_list = [\"aardvark\", \"baboon\", \"camel\"]\n",
    "answer = random.choice(word_list)\n",
    "for i in range(len(answer)) :\n",
    "    a = input('알파벳 순서를 맞춰보세요')\n",
    "    if answer[i] == a[i] :\n",
    "        print('right')\n",
    "    else :\n",
    "        print('wrong')\n",
    "    \n",
    "    "
   ]
  },
  {
   "cell_type": "code",
   "execution_count": null,
   "id": "4a4914c5",
   "metadata": {},
   "outputs": [],
   "source": [
    "## 단어가 주어지면 그것에 맞제 '_'의 개수 추가하고 맞춘 알파벳은 그 알파벳으로 대체\n",
    "\n",
    "answer = 'apple'\n",
    "list_a = []\n",
    "\n",
    "for i in range(len(answer)) :\n",
    "    list_a.append('_')\n",
    "\n",
    "a = input('알파벳은 무엇일까요?')\n",
    "for i in range(len(answer)) :\n",
    "    if a[i] == answer[i] :\n",
    "        list_a[i] = a[i]\n",
    "        \n",
    "print(list_a)\n",
    "\n"
   ]
  },
  {
   "cell_type": "code",
   "execution_count": null,
   "id": "51a464cd",
   "metadata": {},
   "outputs": [],
   "source": [
    "## 위의 예제에서 사용자는 퀴즈가 맞을 때까지 반복하며 맞춘 다음에는 반복문을 빠져나올것\n",
    "answer = 'hajun'\n",
    "list_a = []\n",
    "\n",
    "for i in range(len(answer)) :\n",
    "    list_a.append('_')\n",
    "\n",
    "while True :\n",
    "    a = input('스펠링을 입력하세요')\n",
    "    for i in range(len(answer)) :\n",
    "        if answer[i] == a :\n",
    "            list_a[i] = a\n",
    "    print(list_a)\n",
    "\n",
    "    if ''.join(list_a) == answer :\n",
    "        print('you win!')\n",
    "        break\n",
    "    "
   ]
  },
  {
   "cell_type": "code",
   "execution_count": null,
   "id": "2b68d268",
   "metadata": {},
   "outputs": [
    {
     "name": "stdout",
     "output_type": "stream",
     "text": [
      "당신의 첫번째 패는 3입니다 \n",
      " 상대방의 첫번째 패는 2입니다\n",
      "게임을 계속하시겠습니까? yes or noyes\n",
      "당신의 패는[3, 7]입니다. 상대방의 첫번째 패는 2입니다\n",
      "게임을 계속하시겠습니까? yes or noyes\n",
      "당신의 패는[3, 7, 1]입니다. 상대방의 첫번째 패는 2입니다\n",
      "게임을 계속하시겠습니까? yes or noyes\n",
      "당신의 패는[3, 7, 1, 3]입니다. 상대방의 첫번째 패는 2입니다\n",
      "게임을 계속하시겠습니까? yes or nono\n",
      "게임을 계속하시겠습니까? yes or nono\n",
      "게임을 계속하시겠습니까? yes or noyes\n",
      "당신의 패는[3, 7, 1, 3, 8]입니다. 상대방의 첫번째 패는 2입니다\n",
      "you lose\n",
      "게임을 계속하시겠습니까? yes or nono\n"
     ]
    }
   ],
   "source": [
    "## 블랙잭 예제\n",
    "\n",
    "import random\n",
    "\n",
    "me = []\n",
    "computer = []\n",
    "me.append(random.randrange(1,10))\n",
    "computer.append(random.randrange(1,10))\n",
    "\n",
    "print(f'당신의 첫번째 패는 {me[0]}입니다 \\n 상대방의 첫번째 패는 {computer[0]}입니다')\n",
    "\n",
    "while True :\n",
    "   a = input('게임을 계속하시겠습니까? yes or no') \n",
    "   if a == 'yes' :\n",
    "        me.append(random.randrange(1,10))\n",
    "        computer.append(random.randrange(1,10))\n",
    "        print(f'당신의 패는{me}입니다. 상대방의 첫번째 패는 {computer[0]}입니다' )\n",
    "        if sum(me) > 21 :\n",
    "            print('you lose')\n",
    "    \n",
    "   if sum(me) > sum(computer) and a == 'no' :\n",
    "    print(f'you win computer = {sum(computer)}')\n",
    "    break\n",
    "    \n",
    "   if sum(me) < sum(computer) and a == 'no' :\n",
    "    print('you lose computer = {sum(computer)}')\n",
    "    break\n",
    "    \n",
    "\n",
    "   \n",
    "        \n",
    "        \n",
    "            \n",
    "  \n",
    "        "
   ]
  },
  {
   "cell_type": "markdown",
   "id": "b9dd4998",
   "metadata": {},
   "source": []
  },
  {
   "cell_type": "code",
   "execution_count": null,
   "id": "6dac1788",
   "metadata": {},
   "outputs": [],
   "source": []
  },
  {
   "cell_type": "code",
   "execution_count": null,
   "id": "3e1bdb4f",
   "metadata": {},
   "outputs": [],
   "source": []
  }
 ],
 "metadata": {
  "kernelspec": {
   "display_name": "Python 3 (ipykernel)",
   "language": "python",
   "name": "python3"
  },
  "language_info": {
   "codemirror_mode": {
    "name": "ipython",
    "version": 3
   },
   "file_extension": ".py",
   "mimetype": "text/x-python",
   "name": "python",
   "nbconvert_exporter": "python",
   "pygments_lexer": "ipython3",
   "version": "3.10.2"
  }
 },
 "nbformat": 4,
 "nbformat_minor": 5
}
