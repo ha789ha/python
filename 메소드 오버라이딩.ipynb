{
 "cells": [
  {
   "cell_type": "markdown",
   "id": "d6f8875a",
   "metadata": {},
   "source": [
    "# 메소드 오버라이딩"
   ]
  },
  {
   "cell_type": "code",
   "execution_count": 12,
   "id": "ad136c27",
   "metadata": {},
   "outputs": [],
   "source": [
    "# 일반유닛\n",
    "class unit :\n",
    "    def __init__(self, name, hp, speed) :\n",
    "        self.name = name\n",
    "        self.hp = hp\n",
    "        self.speed = speed  ##스피드 변수 추가\n",
    "        \n",
    "    def move(self, location) :\n",
    "        print('지상유닛이동')\n",
    "        print(f'{self.name} : {location} 방향으로 이동합니다 속도 {self.speed}')\n",
    "\n",
    "# 공격유닛        \n",
    "class AttackUnit(unit) :\n",
    "    def __init__(self, name, hp, speed, damage) :       \n",
    "        unit.__init__(self, name, hp, speed)\n",
    "        self.damge = damage\n",
    "        \n",
    "    def attack(self, location) :\n",
    "        print(f'{self.name} : {location} 방향으로 적군을 공격 합니다.')\n",
    "        \n",
    "    def damaged(self, damage) :\n",
    "        print(f'{self.name} : {damage} 데미지를 입었습니다')\n",
    "        self.hp -=damage\n",
    "        print(f'{self.name} : 현재 체력은 {self.hp}입니다')\n",
    "        if self.hp <= 0 :\n",
    "            print(f'{self.name} : 파괴되었습니다')\n",
    "            \n",
    "# 드랍쉽 : 수송 기능, 공격 X\n",
    "class Flyable :\n",
    "    def __init__(self, flying_speed) :\n",
    "        self.flying_speed = flying_speed\n",
    "        \n",
    "    def fly(self, name, location) :\n",
    "        print(f'{name} : {location} 방향으로 날아갑니다, 속도 {self.flying_speed}')\n",
    "        \n",
    "# 공중 공격 유닛 클래스\n",
    "class FlyableAttackUnit(AttackUnit, Flyable) :\n",
    "    def __init__(self, name, hp, damage, flying_speed) :\n",
    "        AttackUnit.__init__(self, name, hp, 0, damage) # 지상 speed는 0으로 처리\n",
    "        Flyable.__init__(self, flying_speed)\n",
    "        \n",
    "    def move(self, location) :\n",
    "        print('공중유닛이동')\n",
    "        self.fly(self.name, location) \n"
   ]
  },
  {
   "cell_type": "code",
   "execution_count": 13,
   "id": "af95bf85",
   "metadata": {},
   "outputs": [
    {
     "name": "stdout",
     "output_type": "stream",
     "text": [
      "지상유닛이동\n",
      "벌처 : 11시 방향으로 이동합니다 속도 10\n",
      "배틀크루저 : 9시 방향으로 날아갑니다, 속도 3\n"
     ]
    }
   ],
   "source": [
    "# 벌처 : 지상 유닛, 기동성이 좋음\n",
    "vulture = AttackUnit('벌처', 80, 10, 20)\n",
    "\n",
    "# 배틀크루저 : 공중 유닛, 체력 굉장히 좋고 공격력 좋음\n",
    "battlecruiser = FlyableAttackUnit('배틀크루저', 5400, 25, 3)\n",
    "\n",
    "vulture.move('11시')\n",
    "battlecruiser.fly(battlecruiser.name, '9시')\n"
   ]
  },
  {
   "cell_type": "markdown",
   "id": "268945e5",
   "metadata": {},
   "source": [
    "## 그러나 이런 경우에는 우리가 유닛이 지상인지, 공중인지 매번 확인해줘야 한다\n",
    "\n",
    "따라서 오버라이딩을 하는 것이 편리하다"
   ]
  },
  {
   "cell_type": "code",
   "execution_count": 14,
   "id": "b7ca4ce9",
   "metadata": {},
   "outputs": [
    {
     "name": "stdout",
     "output_type": "stream",
     "text": [
      "공중유닛이동\n",
      "배틀크루저 : 9시 방향으로 날아갑니다, 속도 3\n"
     ]
    }
   ],
   "source": [
    "# def move(self. location) :\n",
    "#         print('공중유닛이동')\n",
    "#         self.fly(self.name, location)를 추가\n",
    "battlecruiser.move('9시')"
   ]
  },
  {
   "cell_type": "code",
   "execution_count": null,
   "id": "6fcb8a35",
   "metadata": {},
   "outputs": [],
   "source": []
  }
 ],
 "metadata": {
  "kernelspec": {
   "display_name": "Python 3 (ipykernel)",
   "language": "python",
   "name": "python3"
  },
  "language_info": {
   "codemirror_mode": {
    "name": "ipython",
    "version": 3
   },
   "file_extension": ".py",
   "mimetype": "text/x-python",
   "name": "python",
   "nbconvert_exporter": "python",
   "pygments_lexer": "ipython3",
   "version": "3.10.2"
  }
 },
 "nbformat": 4,
 "nbformat_minor": 5
}
