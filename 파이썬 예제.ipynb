{
 "cells": [
  {
   "cell_type": "markdown",
   "id": "d0031679",
   "metadata": {},
   "source": [
    "오늘이  주 중인지 주말인지에 따라, \n",
    "주 중이면 “열심히 삽시다”라는 문자열을 출력하고 주말이면 “쫌 쉽시다”라는 문자열을 출력한다."
   ]
  },
  {
   "cell_type": "code",
   "execution_count": null,
   "id": "cb8873d4",
   "metadata": {},
   "outputs": [],
   "source": [
    "from datetime import datetime\n",
    "day = datetime.today().weekday()\n",
    "\n",
    "if day == 5 and dat == 6 :\n",
    "    print('쫌 쉽시다')\n",
    "    \n",
    "else :\n",
    "    print('열심히 삽시다')"
   ]
  },
  {
   "cell_type": "markdown",
   "id": "ff85208b",
   "metadata": {},
   "source": [
    "1부터 순차적으로 누적할 때(1+2+3…+n), 얼마까지 누적해야 1000000을 초과할까.\n"
   ]
  },
  {
   "cell_type": "code",
   "execution_count": null,
   "id": "f0eaff70",
   "metadata": {},
   "outputs": [],
   "source": [
    "n = 1\n",
    "list = []\n",
    "while True :\n",
    "    sum = 0\n",
    "    for i in range(n) :\n",
    "        sum = sum + i\n",
    "        \n",
    "    n = n + 1\n",
    "        \n",
    "    if sum > 1000000 :\n",
    "        print(n - 2)\n",
    "        break\n",
    "\n",
    "    \n",
    "\n",
    "\n",
    "\n",
    "\n"
   ]
  },
  {
   "cell_type": "markdown",
   "id": "b8cadd9c",
   "metadata": {},
   "source": [
    "다음 방정식의 해룰 출력하시오.\n",
    "2x + y = 10 (x,y는 정수이며 0보다 같거나 크고, 10보다 같거나 작다\n"
   ]
  },
  {
   "cell_type": "code",
   "execution_count": null,
   "id": "80c154a6",
   "metadata": {},
   "outputs": [],
   "source": [
    "for x in range(11) :\n",
    "    for y in range(11) :\n",
    "        if 2*x + y == 10 :\n",
    "            print(f'x = {x}, y = {y}')"
   ]
  },
  {
   "cell_type": "markdown",
   "id": "9e446eec",
   "metadata": {},
   "source": [
    "1부터 100사이의 랜덤한 숫자를 생성해두고 사용자가 몇번만에 맞추는지를 출력한다.\n",
    "사용자가 입력하면 비교하여 Up or Down을 알린다. 맞추면 몇번만에 맞추었는지를 출력한다.\n"
   ]
  },
  {
   "cell_type": "code",
   "execution_count": null,
   "id": "1822e825",
   "metadata": {},
   "outputs": [],
   "source": [
    "import random\n",
    "\n",
    "number = random.randrange(1, 100)\n",
    "\n",
    "count = 0\n",
    "while True :\n",
    "    answer = int(input('당신의 숫자를 입력하세요'))\n",
    "    if answer > number :\n",
    "        print('down')\n",
    "        count = count + 1\n",
    "    elif answer < number :\n",
    "        print('up')\n",
    "        count = count + 1\n",
    "    else :\n",
    "        print(f'당신은 {count}회만에 맞추었습니다!')\n",
    "\n",
    "\n"
   ]
  },
  {
   "cell_type": "code",
   "execution_count": null,
   "id": "88da8d96",
   "metadata": {},
   "outputs": [],
   "source": [
    "# 6번 \n",
    "\n",
    "for i in range(6) :\n",
    "    print('*'*i)\n",
    "    \n",
    "    "
   ]
  },
  {
   "cell_type": "markdown",
   "id": "fb9a82c7",
   "metadata": {},
   "source": [
    "두 수를 전달받아서 최소공배수를 리턴하는 프로그램을 작성하시오.\n"
   ]
  },
  {
   "cell_type": "code",
   "execution_count": null,
   "id": "6c655e80",
   "metadata": {},
   "outputs": [],
   "source": [
    "a, b = input('숫자 두 개를 입력하세요: ').split()\n",
    "a = int(a)\n",
    "b = int(b)\n",
    "set_a = {i*a for i in range(1, a*b)}\n",
    "set_b = {i*b for i in range(1, a*b)}\n",
    "min((set_a & set_b))\n"
   ]
  },
  {
   "cell_type": "markdown",
   "id": "711cd152",
   "metadata": {},
   "source": [
    "(x + y)(x-y)를 구하는 프로그램을 작성하시오."
   ]
  },
  {
   "cell_type": "code",
   "execution_count": null,
   "id": "d6f70e99",
   "metadata": {},
   "outputs": [],
   "source": [
    "def operation(x, y) :\n",
    "    print((x + y)*(x - y))\n",
    "\n",
    "operation(10, 5)"
   ]
  },
  {
   "cell_type": "code",
   "execution_count": null,
   "id": "28b9f370",
   "metadata": {},
   "outputs": [],
   "source": [
    "a, b = input('문자열 두 개를 입력하세요: ').split()\n",
    "\n",
    "list = []\n",
    "for i in range(len(a)) :\n",
    "    for q in range(len(b)) :\n",
    "        list.append(a[i] + b[q])\n",
    "        \n",
    "list"
   ]
  },
  {
   "cell_type": "code",
   "execution_count": null,
   "id": "afc973ad",
   "metadata": {},
   "outputs": [],
   "source": []
  }
 ],
 "metadata": {
  "kernelspec": {
   "display_name": "Python 3 (ipykernel)",
   "language": "python",
   "name": "python3"
  },
  "language_info": {
   "codemirror_mode": {
    "name": "ipython",
    "version": 3
   },
   "file_extension": ".py",
   "mimetype": "text/x-python",
   "name": "python",
   "nbconvert_exporter": "python",
   "pygments_lexer": "ipython3",
   "version": "3.10.2"
  }
 },
 "nbformat": 4,
 "nbformat_minor": 5
}
