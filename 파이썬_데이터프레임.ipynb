{
 "cells": [
  {
   "cell_type": "markdown",
   "id": "658180bc",
   "metadata": {},
   "source": [
    "# pandas\n",
    "\n",
    "1. series\n",
    "1차원 데이터\n"
   ]
  },
  {
   "cell_type": "code",
   "execution_count": 9,
   "id": "075ac4a1",
   "metadata": {},
   "outputs": [
    {
     "name": "stdout",
     "output_type": "stream",
     "text": [
      "0   -10\n",
      "1    20\n",
      "2    10\n",
      "3     0\n",
      "dtype: int64\n"
     ]
    },
    {
     "data": {
      "text/plain": [
       "10"
      ]
     },
     "execution_count": 9,
     "metadata": {},
     "output_type": "execute_result"
    }
   ],
   "source": [
    "import pandas as pd\n",
    "\n",
    "temp = pd.Series([-10, 20, 10, 0])\n",
    "print(temp)\n",
    "temp[0] # 1월온도\n"
   ]
  },
  {
   "cell_type": "code",
   "execution_count": 10,
   "id": "18cce7dc",
   "metadata": {},
   "outputs": [
    {
     "data": {
      "text/plain": [
       "10"
      ]
     },
     "execution_count": 10,
     "metadata": {},
     "output_type": "execute_result"
    }
   ],
   "source": [
    "temp[2] # 3월온도"
   ]
  },
  {
   "cell_type": "markdown",
   "id": "6856b33e",
   "metadata": {},
   "source": [
    "# series 객체 생성(index 지정)"
   ]
  },
  {
   "cell_type": "code",
   "execution_count": 11,
   "id": "ac42c648",
   "metadata": {},
   "outputs": [
    {
     "data": {
      "text/plain": [
       "jan   -10\n",
       "feb   -10\n",
       "Mar    10\n",
       "Apr    20\n",
       "dtype: int64"
      ]
     },
     "execution_count": 11,
     "metadata": {},
     "output_type": "execute_result"
    }
   ],
   "source": [
    "temp = pd.Series([-10, -10, 10, 20], index = [\"jan\", \"feb\", \"Mar\", \"Apr\"])\n",
    "temp"
   ]
  },
  {
   "cell_type": "code",
   "execution_count": 12,
   "id": "0c5bda2c",
   "metadata": {},
   "outputs": [
    {
     "data": {
      "text/plain": [
       "-10"
      ]
     },
     "execution_count": 12,
     "metadata": {},
     "output_type": "execute_result"
    }
   ],
   "source": [
    "temp[\"jan\"] # index, jan에 해당하는 데이터"
   ]
  },
  {
   "cell_type": "code",
   "execution_count": 13,
   "id": "2ce43ab3",
   "metadata": {},
   "outputs": [
    {
     "data": {
      "text/plain": [
       "20"
      ]
     },
     "execution_count": 13,
     "metadata": {},
     "output_type": "execute_result"
    }
   ],
   "source": [
    "temp[\"Apr\"]"
   ]
  },
  {
   "cell_type": "code",
   "execution_count": null,
   "id": "938e7747",
   "metadata": {},
   "outputs": [],
   "source": []
  },
  {
   "cell_type": "code",
   "execution_count": null,
   "id": "f01a511e",
   "metadata": {},
   "outputs": [],
   "source": []
  }
 ],
 "metadata": {
  "kernelspec": {
   "display_name": "Python 3 (ipykernel)",
   "language": "python",
   "name": "python3"
  },
  "language_info": {
   "codemirror_mode": {
    "name": "ipython",
    "version": 3
   },
   "file_extension": ".py",
   "mimetype": "text/x-python",
   "name": "python",
   "nbconvert_exporter": "python",
   "pygments_lexer": "ipython3",
   "version": "3.10.2"
  }
 },
 "nbformat": 4,
 "nbformat_minor": 5
}
